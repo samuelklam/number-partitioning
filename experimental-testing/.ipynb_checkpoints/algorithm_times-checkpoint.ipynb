{
 "cells": [
  {
   "cell_type": "code",
   "execution_count": 19,
   "metadata": {
    "collapsed": true
   },
   "outputs": [],
   "source": [
    "import pandas as pd\n",
    "import seaborn as sb\n",
    "import numpy as np\n",
    "import matplotlib.pyplot as plt\n",
    "%matplotlib inline"
   ]
  },
  {
   "cell_type": "code",
   "execution_count": 36,
   "metadata": {
    "collapsed": false
   },
   "outputs": [],
   "source": [
    "f1 = pd.read_csv('../output/kk_25k.txt')\n",
    "f2 = pd.read_csv('../output/rep_rand_25k.txt')\n",
    "f3 = pd.read_csv('../output/hill_climb_25k.txt')\n",
    "f4 = pd.read_csv('../output/sim_anneal_25k.txt')\n",
    "\n",
    "file_arr = [f1, f2, f3, f4]"
   ]
  },
  {
   "cell_type": "code",
   "execution_count": 37,
   "metadata": {
    "collapsed": false
   },
   "outputs": [
    {
     "name": "stdout",
     "output_type": "stream",
     "text": [
      "0 : Residue 247908.02 , Time: 4.742e-05\n",
      "1 : Residue 293238299.34 , Time: 0.05391996\n",
      "2 : Residue 313626357.78 , Time: 0.01112344\n",
      "3 : Residue 276687056.26 , Time: 0.01307814\n"
     ]
    }
   ],
   "source": [
    "for i, file in enumerate(file_arr):\n",
    "    print i, \": Residue\", file['Residue'].mean(), \", Time:\", file['Time'].mean()"
   ]
  },
  {
   "cell_type": "code",
   "execution_count": null,
   "metadata": {
    "collapsed": true
   },
   "outputs": [],
   "source": []
  }
 ],
 "metadata": {
  "kernelspec": {
   "display_name": "Python [Root]",
   "language": "python",
   "name": "Python [Root]"
  },
  "language_info": {
   "codemirror_mode": {
    "name": "ipython",
    "version": 2
   },
   "file_extension": ".py",
   "mimetype": "text/x-python",
   "name": "python",
   "nbconvert_exporter": "python",
   "pygments_lexer": "ipython2",
   "version": "2.7.9"
  }
 },
 "nbformat": 4,
 "nbformat_minor": 0
}
