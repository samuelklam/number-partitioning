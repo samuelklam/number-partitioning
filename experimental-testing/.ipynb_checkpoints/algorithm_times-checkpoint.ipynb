{
 "cells": [
  {
   "cell_type": "code",
   "execution_count": 1,
   "metadata": {
    "collapsed": false
   },
   "outputs": [],
   "source": [
    "import pandas as pd\n",
    "import seaborn as sb\n",
    "import numpy as np\n",
    "import matplotlib.pyplot as plt\n",
    "%matplotlib inline"
   ]
  },
  {
   "cell_type": "code",
   "execution_count": 2,
   "metadata": {
    "collapsed": false
   },
   "outputs": [],
   "source": [
    "f1 = pd.read_csv('../output/kk_25k.txt')\n",
    "f2 = pd.read_csv('../output/rep_rand_25k.txt')\n",
    "f3 = pd.read_csv('../output/hill_climb_25k.txt')\n",
    "f4 = pd.read_csv('../output/sim_anneal_25k.txt')\n",
    "f5 = pd.read_csv('../output/pre_rep_rand_25k.txt')\n",
    "f6 = pd.read_csv('../output/pre_hill_climb_25k.txt')\n",
    "f7 = pd.read_csv('../output/pre_sim_anneal_25k.txt')\n",
    "\n",
    "file_arr = [f1, f2, f3, f4, f5, f6, f7]"
   ]
  },
  {
   "cell_type": "code",
   "execution_count": 3,
   "metadata": {
    "collapsed": false
   },
   "outputs": [
    {
     "name": "stdout",
     "output_type": "stream",
     "text": [
      "0 : Residue 252275.18 , Time: 5.054e-05\n",
      "1 : Residue 191601961.64 , Time: 0.08446233\n",
      "2 : Residue 212065624.44 , Time: 0.01644793\n",
      "3 : Residue 161645961.28 , Time: 0.02026284\n",
      "4 : Residue 108.62 , Time: 1.6551187\n",
      "5 : Residue 530.58 , Time: 1.4246149\n",
      "6 : Residue 133.5 , Time: 1.4513648\n"
     ]
    }
   ],
   "source": [
    "for i, file in enumerate(file_arr):\n",
    "    print i, \": Residue\", file['Residue'].mean(), \", Time:\", file['Time'].mean()"
   ]
  },
  {
   "cell_type": "code",
   "execution_count": 4,
   "metadata": {
    "collapsed": false
   },
   "outputs": [
    {
     "name": "stdout",
     "output_type": "stream",
     "text": [
      "0 : Residue SD 336676.97277 , Time: 9.39849547384e-06\n",
      "1 : Residue SD 181454196.639 , Time: 0.00604097516888\n",
      "2 : Residue SD 222266692.304 , Time: 0.0021395079452\n",
      "3 : Residue SD 150084876.474 , Time: 0.00212005628723\n",
      "4 : Residue SD 103.896294448 , Time: 0.122993872309\n",
      "5 : Residue SD 664.049638829 , Time: 0.119663714528\n",
      "6 : Residue SD 124.746814295 , Time: 0.106244528848\n"
     ]
    }
   ],
   "source": [
    "for i, file in enumerate(file_arr):\n",
    "    print i, \": Residue SD\", file['Residue'].std(), \", Time:\", file['Time'].std()"
   ]
  },
  {
   "cell_type": "code",
   "execution_count": null,
   "metadata": {
    "collapsed": true
   },
   "outputs": [],
   "source": []
  }
 ],
 "metadata": {
  "anaconda-cloud": {},
  "kernelspec": {
   "display_name": "Python [Root]",
   "language": "python",
   "name": "Python [Root]"
  },
  "language_info": {
   "codemirror_mode": {
    "name": "ipython",
    "version": 2
   },
   "file_extension": ".py",
   "mimetype": "text/x-python",
   "name": "python",
   "nbconvert_exporter": "python",
   "pygments_lexer": "ipython2",
   "version": "2.7.9"
  }
 },
 "nbformat": 4,
 "nbformat_minor": 0
}
