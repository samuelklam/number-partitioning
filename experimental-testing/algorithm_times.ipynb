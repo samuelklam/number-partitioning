{
 "cells": [
  {
   "cell_type": "code",
   "execution_count": 37,
   "metadata": {
    "collapsed": false
   },
   "outputs": [],
   "source": [
    "import pandas as pd\n",
    "import seaborn as sb\n",
    "import numpy as np\n",
    "import matplotlib.pyplot as plt\n",
    "%matplotlib inline"
   ]
  },
  {
   "cell_type": "code",
   "execution_count": 38,
   "metadata": {
    "collapsed": false
   },
   "outputs": [],
   "source": [
    "f1 = pd.read_csv('../output/kk_25k.txt')\n",
    "f2 = pd.read_csv('../output/rep_rand_25k.txt')\n",
    "f3 = pd.read_csv('../output/hill_climb_25k.txt')\n",
    "f4 = pd.read_csv('../output/sim_anneal_25k.txt')\n",
    "f5 = pd.read_csv('../output/pre_rep_rand_25k.txt')\n",
    "f6 = pd.read_csv('../output/pre_hill_climb_25k.txt')\n",
    "f7 = pd.read_csv('../output/pre_sim_anneal_25k.txt')\n",
    "\n",
    "file_arr = [f1, f2, f3, f4, f5, f6, f7]"
   ]
  },
  {
   "cell_type": "code",
   "execution_count": 39,
   "metadata": {
    "collapsed": false
   },
   "outputs": [
    {
     "name": "stdout",
     "output_type": "stream",
     "text": [
      "0 : Residue 279405.46 , Time: 4.93e-05\n",
      "1 : Residue 271037291.4 , Time: 0.05167189\n",
      "2 : Residue 335630129.4 , Time: 0.00994612\n",
      "3 : Residue 275301331.88 , Time: 0.01225006\n",
      "4 : Residue 149.66 , Time: 1.01271784\n",
      "5 : Residue 763.12 , Time: 0.88028478\n",
      "6 : Residue 182.1 , Time: 0.89025367\n"
     ]
    }
   ],
   "source": [
    "for i, file in enumerate(file_arr):\n",
    "    print i, \": Residue\", file['Residue'].mean(), \", Time:\", file['Time'].mean()"
   ]
  },
  {
   "cell_type": "code",
   "execution_count": 43,
   "metadata": {
    "collapsed": false
   },
   "outputs": [
    {
     "name": "stdout",
     "output_type": "stream",
     "text": [
      " 0 : Residue SD 544385.261336 , Time: 1.05385295967e-05\n",
      "1 : Residue SD 273613016.89 , Time: 0.0033369872001\n",
      "2 : Residue SD 391977739.997 , Time: 0.00127170070871\n",
      "3 : Residue SD 273858852.508 , Time: 0.00165403047875\n",
      "4 : Residue SD 181.218001425 , Time: 0.0696959916855\n",
      "5 : Residue SD 1063.5936727 , Time: 0.0705222650177\n",
      "6 : Residue SD 186.726153941 , Time: 0.0552182874672\n"
     ]
    }
   ],
   "source": [
    "for i, file in enumerate(file_arr):\n",
    "    print i, \": Residue SD\", file['Residue'].std(), \", Time:\", file['Time'].std()"
   ]
  },
  {
   "cell_type": "code",
   "execution_count": null,
   "metadata": {
    "collapsed": true
   },
   "outputs": [],
   "source": []
  }
 ],
 "metadata": {
  "anaconda-cloud": {},
  "kernelspec": {
   "display_name": "Python [Root]",
   "language": "python",
   "name": "Python [Root]"
  },
  "language_info": {
   "codemirror_mode": {
    "name": "ipython",
    "version": 2
   },
   "file_extension": ".py",
   "mimetype": "text/x-python",
   "name": "python",
   "nbconvert_exporter": "python",
   "pygments_lexer": "ipython2",
   "version": "2.7.9"
  }
 },
 "nbformat": 4,
 "nbformat_minor": 0
}
