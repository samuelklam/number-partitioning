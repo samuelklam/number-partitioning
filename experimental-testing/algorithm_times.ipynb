{
 "cells": [
  {
   "cell_type": "code",
   "execution_count": 31,
   "metadata": {
    "collapsed": false
   },
   "outputs": [],
   "source": [
    "import pandas as pd\n",
    "import seaborn as sb\n",
    "import numpy as np\n",
    "import matplotlib.pyplot as plt\n",
    "%matplotlib inline"
   ]
  },
  {
   "cell_type": "code",
   "execution_count": 32,
   "metadata": {
    "collapsed": false
   },
   "outputs": [],
   "source": [
    "f1 = pd.read_csv('../output/kk_25k.txt')\n",
    "f2 = pd.read_csv('../output/rep_rand_25k.txt')\n",
    "f3 = pd.read_csv('../output/hill_climb_25k.txt')\n",
    "f4 = pd.read_csv('../output/sim_anneal_25k.txt')\n",
    "f5 = pd.read_csv('../output/pre_rep_rand_25k.txt')\n",
    "f6 = pd.read_csv('../output/pre_hill_climb_25k.txt')\n",
    "f7 = pd.read_csv('../output/pre_sim_anneal_25k.txt')\n",
    "\n",
    "file_arr = [f1, f2, f3, f4, f5, f6, f7]"
   ]
  },
  {
   "cell_type": "code",
   "execution_count": 33,
   "metadata": {
    "collapsed": false
   },
   "outputs": [
    {
     "name": "stdout",
     "output_type": "stream",
     "text": [
      "0 : Residue 292190.49 , Time: 5.207e-05\n",
      "1 : Residue 320423074.01 , Time: 0.05647287\n",
      "2 : Residue 399790268.63 , Time: 0.01163522\n",
      "3 : Residue 272668696.13 , Time: 0.01423548\n",
      "4 : Residue 159.81 , Time: 1.16108807\n",
      "5 : Residue 736.63 , Time: 0.99437546\n",
      "6 : Residue 186.49 , Time: 1.01218062\n"
     ]
    }
   ],
   "source": [
    "for i, file in enumerate(file_arr):\n",
    "    print i, \": Residue\", file['Residue'].mean(), \", Time:\", file['Time'].mean()"
   ]
  },
  {
   "cell_type": "code",
   "execution_count": null,
   "metadata": {
    "collapsed": true
   },
   "outputs": [],
   "source": []
  }
 ],
 "metadata": {
  "anaconda-cloud": {},
  "kernelspec": {
   "display_name": "Python [Root]",
   "language": "python",
   "name": "Python [Root]"
  },
  "language_info": {
   "codemirror_mode": {
    "name": "ipython",
    "version": 2
   },
   "file_extension": ".py",
   "mimetype": "text/x-python",
   "name": "python",
   "nbconvert_exporter": "python",
   "pygments_lexer": "ipython2",
   "version": "2.7.9"
  }
 },
 "nbformat": 4,
 "nbformat_minor": 0
}
